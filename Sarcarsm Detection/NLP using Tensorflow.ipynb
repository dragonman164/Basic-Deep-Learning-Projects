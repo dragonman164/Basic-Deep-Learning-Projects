{
 "cells": [
  {
   "cell_type": "markdown",
   "id": "55c0e9d5",
   "metadata": {},
   "source": [
    "## Tokenization"
   ]
  },
  {
   "cell_type": "code",
   "execution_count": 1,
   "id": "8705a6a0",
   "metadata": {},
   "outputs": [
    {
     "name": "stdout",
     "output_type": "stream",
     "text": [
      "{'my': 1, 'love': 2, 'dog': 3, 'i': 4, 'you': 5, 'cat': 6, 'do': 7, 'think': 8, 'is': 9, 'amazing': 10}\n"
     ]
    }
   ],
   "source": [
    "from tensorflow.keras.preprocessing.text import Tokenizer\n",
    "\n",
    "sentences = [\n",
    "    'i love my dog',\n",
    "    'I, love my cat',\n",
    "    'You love my dog!',\n",
    "    'Do you think my dog is amazing?'\n",
    "]\n",
    "tokenizer = Tokenizer(num_words=100)\n",
    "tokenizer.fit_on_texts(sentences)\n",
    "word_index = tokenizer.word_index\n",
    "print(word_index)\n"
   ]
  },
  {
   "cell_type": "markdown",
   "id": "52c5fca5",
   "metadata": {},
   "source": [
    "## Sequencing and Padding"
   ]
  },
  {
   "cell_type": "code",
   "execution_count": 2,
   "id": "bcca31f4",
   "metadata": {},
   "outputs": [
    {
     "name": "stdout",
     "output_type": "stream",
     "text": [
      "[[4, 2, 1, 3], [4, 2, 1, 6], [5, 2, 1, 3], [7, 5, 8, 1, 3, 9, 10]]\n",
      "[[ 0  4  2  1  3]\n",
      " [ 0  4  2  1  6]\n",
      " [ 0  5  2  1  3]\n",
      " [ 8  1  3  9 10]]\n"
     ]
    }
   ],
   "source": [
    "from tensorflow.keras.preprocessing.sequence import pad_sequences\n",
    "sequences = tokenizer.texts_to_sequences(sentences)\n",
    "padded = pad_sequences(sequences,maxlen = 5)\n",
    "print(sequences)\n",
    "print(padded)"
   ]
  },
  {
   "cell_type": "code",
   "execution_count": 3,
   "id": "a5590ab9",
   "metadata": {},
   "outputs": [
    {
     "name": "stdout",
     "output_type": "stream",
     "text": [
      "\n",
      "Test Sequence =  [[4, 2, 1, 3], [1, 3, 1]]\n",
      "\n",
      "Padded Test Sequence: \n",
      "[[0 0 0 0 0 0 4 2 1 3]\n",
      " [0 0 0 0 0 0 0 1 3 1]]\n"
     ]
    }
   ],
   "source": [
    "test_data = [\n",
    "    'i really love my dog',\n",
    "    'my dog loves my manatee'\n",
    "]\n",
    "\n",
    "test_seq = tokenizer.texts_to_sequences(test_data)\n",
    "print(\"\\nTest Sequence = \", test_seq)\n",
    "\n",
    "padded = pad_sequences(test_seq, maxlen=10)\n",
    "print(\"\\nPadded Test Sequence: \")\n",
    "print(padded)"
   ]
  },
  {
   "cell_type": "markdown",
   "id": "05297f5c",
   "metadata": {},
   "source": [
    "## Sarcasm Detection"
   ]
  },
  {
   "cell_type": "code",
   "execution_count": 4,
   "id": "50663717",
   "metadata": {},
   "outputs": [],
   "source": [
    "import json\n",
    "import tensorflow as tf\n",
    "\n",
    "from tensorflow.keras.preprocessing.text import Tokenizer\n",
    "from tensorflow.keras.preprocessing.sequence import pad_sequences"
   ]
  },
  {
   "cell_type": "code",
   "execution_count": 5,
   "id": "b8a3704d",
   "metadata": {},
   "outputs": [],
   "source": [
    "vocab_size = 10000\n",
    "embedding_dim = 16\n",
    "max_length = 100\n",
    "trunc_type='post'\n",
    "padding_type='post'\n",
    "oov_tok = \"<OOV>\"\n",
    "training_size = 20000"
   ]
  },
  {
   "cell_type": "code",
   "execution_count": 6,
   "id": "1e0f71b9",
   "metadata": {},
   "outputs": [],
   "source": [
    "with open(\"sarcasm.json\", 'r') as f:\n",
    "    datastore = json.load(f)\n",
    "\n",
    "sentences = []\n",
    "labels = []\n",
    "\n",
    "for item in datastore:\n",
    "    sentences.append(item['headline'])\n",
    "    labels.append(item['is_sarcastic'])"
   ]
  },
  {
   "cell_type": "code",
   "execution_count": 7,
   "id": "1f3dc0c6",
   "metadata": {},
   "outputs": [],
   "source": [
    "training_sentences = sentences[0:training_size]\n",
    "testing_sentences = sentences[training_size:]\n",
    "training_labels = labels[0:training_size]\n",
    "testing_labels = labels[training_size:]"
   ]
  },
  {
   "cell_type": "code",
   "execution_count": 8,
   "id": "20c21dfa",
   "metadata": {},
   "outputs": [],
   "source": [
    "tokenizer = Tokenizer(num_words=vocab_size, oov_token=oov_tok)\n",
    "tokenizer.fit_on_texts(training_sentences)\n",
    "\n",
    "word_index = tokenizer.word_index\n",
    "\n",
    "training_sequences = tokenizer.texts_to_sequences(training_sentences)\n",
    "training_padded = pad_sequences(training_sequences, maxlen=max_length, padding=padding_type, truncating=trunc_type)\n",
    "\n",
    "testing_sequences = tokenizer.texts_to_sequences(testing_sentences)\n",
    "testing_padded = pad_sequences(testing_sequences, maxlen=max_length, padding=padding_type, truncating=trunc_type)"
   ]
  },
  {
   "cell_type": "code",
   "execution_count": 9,
   "id": "d69b814d",
   "metadata": {},
   "outputs": [],
   "source": [
    "import numpy as np\n",
    "training_padded = np.array(training_padded)\n",
    "training_labels = np.array(training_labels)\n",
    "testing_padded = np.array(testing_padded)\n",
    "testing_labels = np.array(testing_labels)"
   ]
  },
  {
   "cell_type": "code",
   "execution_count": 10,
   "id": "eee07a9b",
   "metadata": {},
   "outputs": [],
   "source": [
    "model = tf.keras.Sequential([\n",
    "    tf.keras.layers.Embedding(vocab_size, embedding_dim, input_length=max_length),\n",
    "    tf.keras.layers.GlobalAveragePooling1D(),\n",
    "    tf.keras.layers.Dense(24, activation='relu'),\n",
    "    tf.keras.layers.Dense(1, activation='sigmoid')\n",
    "])\n",
    "model.compile(loss='binary_crossentropy',optimizer='adam',metrics=['accuracy'])"
   ]
  },
  {
   "cell_type": "code",
   "execution_count": 11,
   "id": "9b44a23f",
   "metadata": {},
   "outputs": [
    {
     "name": "stdout",
     "output_type": "stream",
     "text": [
      "Model: \"sequential\"\n",
      "_________________________________________________________________\n",
      " Layer (type)                Output Shape              Param #   \n",
      "=================================================================\n",
      " embedding (Embedding)       (None, 100, 16)           160000    \n",
      "                                                                 \n",
      " global_average_pooling1d (G  (None, 16)               0         \n",
      " lobalAveragePooling1D)                                          \n",
      "                                                                 \n",
      " dense (Dense)               (None, 24)                408       \n",
      "                                                                 \n",
      " dense_1 (Dense)             (None, 1)                 25        \n",
      "                                                                 \n",
      "=================================================================\n",
      "Total params: 160,433\n",
      "Trainable params: 160,433\n",
      "Non-trainable params: 0\n",
      "_________________________________________________________________\n"
     ]
    }
   ],
   "source": [
    "model.summary()\n"
   ]
  },
  {
   "cell_type": "code",
   "execution_count": 12,
   "id": "5c9b3921",
   "metadata": {},
   "outputs": [
    {
     "name": "stdout",
     "output_type": "stream",
     "text": [
      "Epoch 1/30\n",
      "625/625 - 6s - loss: 0.6780 - accuracy: 0.5604 - val_loss: 0.6412 - val_accuracy: 0.6049 - 6s/epoch - 10ms/step\n",
      "Epoch 2/30\n",
      "625/625 - 5s - loss: 0.4889 - accuracy: 0.7984 - val_loss: 0.4099 - val_accuracy: 0.8243 - 5s/epoch - 8ms/step\n",
      "Epoch 3/30\n",
      "625/625 - 5s - loss: 0.3325 - accuracy: 0.8676 - val_loss: 0.3598 - val_accuracy: 0.8480 - 5s/epoch - 7ms/step\n",
      "Epoch 4/30\n",
      "625/625 - 5s - loss: 0.2768 - accuracy: 0.8923 - val_loss: 0.3447 - val_accuracy: 0.8554 - 5s/epoch - 8ms/step\n",
      "Epoch 5/30\n",
      "625/625 - 5s - loss: 0.2397 - accuracy: 0.9071 - val_loss: 0.3438 - val_accuracy: 0.8521 - 5s/epoch - 7ms/step\n",
      "Epoch 6/30\n",
      "625/625 - 5s - loss: 0.2123 - accuracy: 0.9209 - val_loss: 0.3512 - val_accuracy: 0.8532 - 5s/epoch - 8ms/step\n",
      "Epoch 7/30\n",
      "625/625 - 5s - loss: 0.1901 - accuracy: 0.9293 - val_loss: 0.3488 - val_accuracy: 0.8550 - 5s/epoch - 8ms/step\n",
      "Epoch 8/30\n",
      "625/625 - 5s - loss: 0.1711 - accuracy: 0.9362 - val_loss: 0.3592 - val_accuracy: 0.8560 - 5s/epoch - 8ms/step\n",
      "Epoch 9/30\n",
      "625/625 - 6s - loss: 0.1541 - accuracy: 0.9434 - val_loss: 0.3793 - val_accuracy: 0.8517 - 6s/epoch - 9ms/step\n",
      "Epoch 10/30\n",
      "625/625 - 5s - loss: 0.1415 - accuracy: 0.9487 - val_loss: 0.3869 - val_accuracy: 0.8544 - 5s/epoch - 8ms/step\n",
      "Epoch 11/30\n",
      "625/625 - 5s - loss: 0.1290 - accuracy: 0.9560 - val_loss: 0.4033 - val_accuracy: 0.8512 - 5s/epoch - 9ms/step\n",
      "Epoch 12/30\n",
      "625/625 - 5s - loss: 0.1181 - accuracy: 0.9595 - val_loss: 0.4259 - val_accuracy: 0.8490 - 5s/epoch - 8ms/step\n",
      "Epoch 13/30\n",
      "625/625 - 5s - loss: 0.1086 - accuracy: 0.9632 - val_loss: 0.4508 - val_accuracy: 0.8468 - 5s/epoch - 8ms/step\n",
      "Epoch 14/30\n",
      "625/625 - 5s - loss: 0.1001 - accuracy: 0.9656 - val_loss: 0.4626 - val_accuracy: 0.8462 - 5s/epoch - 8ms/step\n",
      "Epoch 15/30\n",
      "625/625 - 5s - loss: 0.0923 - accuracy: 0.9686 - val_loss: 0.4862 - val_accuracy: 0.8416 - 5s/epoch - 8ms/step\n",
      "Epoch 16/30\n",
      "625/625 - 5s - loss: 0.0855 - accuracy: 0.9714 - val_loss: 0.5078 - val_accuracy: 0.8420 - 5s/epoch - 8ms/step\n",
      "Epoch 17/30\n",
      "625/625 - 5s - loss: 0.0787 - accuracy: 0.9753 - val_loss: 0.5331 - val_accuracy: 0.8399 - 5s/epoch - 7ms/step\n",
      "Epoch 18/30\n",
      "625/625 - 5s - loss: 0.0728 - accuracy: 0.9764 - val_loss: 0.5665 - val_accuracy: 0.8341 - 5s/epoch - 8ms/step\n",
      "Epoch 19/30\n",
      "625/625 - 5s - loss: 0.0675 - accuracy: 0.9785 - val_loss: 0.6129 - val_accuracy: 0.8281 - 5s/epoch - 7ms/step\n",
      "Epoch 20/30\n",
      "625/625 - 5s - loss: 0.0619 - accuracy: 0.9805 - val_loss: 0.6123 - val_accuracy: 0.8308 - 5s/epoch - 7ms/step\n",
      "Epoch 21/30\n",
      "625/625 - 5s - loss: 0.0570 - accuracy: 0.9830 - val_loss: 0.6426 - val_accuracy: 0.8314 - 5s/epoch - 8ms/step\n",
      "Epoch 22/30\n",
      "625/625 - 5s - loss: 0.0531 - accuracy: 0.9845 - val_loss: 0.6695 - val_accuracy: 0.8298 - 5s/epoch - 7ms/step\n",
      "Epoch 23/30\n",
      "625/625 - 5s - loss: 0.0502 - accuracy: 0.9845 - val_loss: 0.7104 - val_accuracy: 0.8262 - 5s/epoch - 7ms/step\n",
      "Epoch 24/30\n",
      "625/625 - 5s - loss: 0.0453 - accuracy: 0.9869 - val_loss: 0.7403 - val_accuracy: 0.8265 - 5s/epoch - 7ms/step\n",
      "Epoch 25/30\n",
      "625/625 - 5s - loss: 0.0427 - accuracy: 0.9883 - val_loss: 0.7772 - val_accuracy: 0.8234 - 5s/epoch - 7ms/step\n",
      "Epoch 26/30\n",
      "625/625 - 5s - loss: 0.0393 - accuracy: 0.9889 - val_loss: 0.8183 - val_accuracy: 0.8202 - 5s/epoch - 7ms/step\n",
      "Epoch 27/30\n",
      "625/625 - 5s - loss: 0.0382 - accuracy: 0.9884 - val_loss: 0.8229 - val_accuracy: 0.8202 - 5s/epoch - 7ms/step\n",
      "Epoch 28/30\n",
      "625/625 - 5s - loss: 0.0339 - accuracy: 0.9905 - val_loss: 0.8549 - val_accuracy: 0.8214 - 5s/epoch - 7ms/step\n",
      "Epoch 29/30\n",
      "625/625 - 5s - loss: 0.0332 - accuracy: 0.9901 - val_loss: 0.9117 - val_accuracy: 0.8182 - 5s/epoch - 7ms/step\n",
      "Epoch 30/30\n",
      "625/625 - 5s - loss: 0.0306 - accuracy: 0.9908 - val_loss: 0.9196 - val_accuracy: 0.8188 - 5s/epoch - 7ms/step\n"
     ]
    }
   ],
   "source": [
    "num_epochs = 30\n",
    "history = model.fit(training_padded, training_labels, epochs=num_epochs, validation_data=(testing_padded, testing_labels), verbose=2)"
   ]
  },
  {
   "cell_type": "code",
   "execution_count": 13,
   "id": "1bc52817",
   "metadata": {},
   "outputs": [
    {
     "data": {
      "image/png": "[encoded data removed]",
      "text/plain": [
       "<Figure size 432x288 with 1 Axes>"
      ]
     },
     "metadata": {
      "needs_background": "light"
     },
     "output_type": "display_data"
    },
    {
     "data": {
      "image/png": "[encoded data removed]",
      "text/plain": [
       "<Figure size 432x288 with 1 Axes>"
      ]
     },
     "metadata": {
      "needs_background": "light"
     },
     "output_type": "display_data"
    }
   ],
   "source": [
    "import matplotlib.pyplot as plt\n",
    "\n",
    "\n",
    "def plot_graphs(history, string):\n",
    "  plt.plot(history.history[string])\n",
    "  plt.plot(history.history['val_'+string])\n",
    "  plt.xlabel(\"Epochs\")\n",
    "  plt.ylabel(string)\n",
    "  plt.legend([string, 'val_'+string])\n",
    "  plt.show()\n",
    "  \n",
    "plot_graphs(history, \"accuracy\")\n",
    "plot_graphs(history, \"loss\")"
   ]
  },
  {
   "cell_type": "code",
   "execution_count": 14,
   "id": "be7fcce8",
   "metadata": {},
   "outputs": [
    {
     "name": "stdout",
     "output_type": "stream",
     "text": [
      "[[9.8007560e-01]\n",
      " [1.8686395e-04]]\n"
     ]
    }
   ],
   "source": [
    "sentence = [\"granny starting to fear spiders in the garden might be real\", \"game of thrones season finale showing this sunday night\"]\n",
    "sequences = tokenizer.texts_to_sequences(sentence)\n",
    "padded = pad_sequences(sequences, maxlen=max_length, padding=padding_type, truncating=trunc_type)\n",
    "print(model.predict(padded))"
   ]
  },
  {
   "cell_type": "code",
   "execution_count": 2,
   "id": "3d2c9d5f",
   "metadata": {},
   "outputs": [
    {
     "name": "stdout",
     "output_type": "stream",
     "text": [
      "Default GPU Device:/device:GPU:0\n"
     ]
    }
   ],
   "source": [
    "import tensorflow as tf \n",
    "\n",
    "if tf.test.gpu_device_name(): \n",
    "\n",
    "    print('Default GPU Device:{}'.format(tf.test.gpu_device_name()))\n",
    "\n",
    "else:\n",
    "\n",
    "   print(\"Please install GPU version of TF\")"
   ]
  },
  {
   "cell_type": "code",
   "execution_count": 3,
   "id": "3a6caf31",
   "metadata": {},
   "outputs": [
    {
     "name": "stdout",
     "output_type": "stream",
     "text": [
      "Executing op _EagerConst in device /job:localhost/replica:0/task:0/device:GPU:0\n",
      "Executing op _EagerConst in device /job:localhost/replica:0/task:0/device:GPU:0\n",
      "Executing op MatMul in device /job:localhost/replica:0/task:0/device:GPU:0\n",
      "tf.Tensor(\n",
      "[[22. 28.]\n",
      " [49. 64.]], shape=(2, 2), dtype=float32)\n"
     ]
    }
   ],
   "source": [
    "\n",
    "# Create some tensors\n",
    "a = tf.constant([[1.0, 2.0, 3.0], [4.0, 5.0, 6.0]])\n",
    "b = tf.constant([[1.0, 2.0], [3.0, 4.0], [5.0, 6.0]])\n",
    "c = tf.matmul(a, b)\n",
    "\n",
    "print(c)\n"
   ]
  },
  {
   "cell_type": "code",
   "execution_count": null,
   "id": "a3ead89f",
   "metadata": {},
   "outputs": [],
   "source": []
  }
 ],
 "metadata": {
  "kernelspec": {
   "display_name": "Python 3 (ipykernel)",
   "language": "python",
   "name": "python3"
  },
  "language_info": {
   "codemirror_mode": {
    "name": "ipython",
    "version": 3
   },
   "file_extension": ".py",
   "mimetype": "text/x-python",
   "name": "python",
   "nbconvert_exporter": "python",
   "pygments_lexer": "ipython3",
   "version": "3.8.3"
  }
 },
 "nbformat": 4,
 "nbformat_minor": 5
}
