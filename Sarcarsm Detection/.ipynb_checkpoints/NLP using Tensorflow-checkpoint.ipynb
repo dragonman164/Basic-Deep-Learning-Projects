{
 "cells": [
  {
   "cell_type": "markdown",
   "id": "55c0e9d5",
   "metadata": {},
   "source": [
    "## Tokenization"
   ]
  },
  {
   "cell_type": "code",
   "execution_count": 1,
   "id": "8705a6a0",
   "metadata": {},
   "outputs": [
    {
     "name": "stdout",
     "output_type": "stream",
     "text": [
      "{'my': 1, 'love': 2, 'dog': 3, 'i': 4, 'you': 5, 'cat': 6, 'do': 7, 'think': 8, 'is': 9, 'amazing': 10}\n"
     ]
    }
   ],
   "source": [
    "from tensorflow.keras.preprocessing.text import Tokenizer\n",
    "\n",
    "sentences = [\n",
    "    'i love my dog',\n",
    "    'I, love my cat',\n",
    "    'You love my dog!',\n",
    "    'Do you think my dog is amazing?'\n",
    "]\n",
    "tokenizer = Tokenizer(num_words=100)\n",
    "tokenizer.fit_on_texts(sentences)\n",
    "word_index = tokenizer.word_index\n",
    "print(word_index)\n"
   ]
  },
  {
   "cell_type": "code",
   "execution_count": null,
   "id": "4b6096d9",
   "metadata": {},
   "outputs": [],
   "source": [
    "tf.debugging.set_log_device_placement(True)\n"
   ]
  },
  {
   "cell_type": "markdown",
   "id": "52c5fca5",
   "metadata": {},
   "source": [
    "## Sequencing and Padding"
   ]
  },
  {
   "cell_type": "code",
   "execution_count": 3,
   "id": "bcca31f4",
   "metadata": {},
   "outputs": [
    {
     "name": "stdout",
     "output_type": "stream",
     "text": [
      "[[3, 1, 2, 4], [3, 1, 2, 5], [6, 1, 2, 4]]\n",
      "[[0 3 1 2 4]\n",
      " [0 3 1 2 5]\n",
      " [0 6 1 2 4]]\n"
     ]
    }
   ],
   "source": [
    "from tensorflow.keras.preprocessing.sequence import pad_sequences\n",
    "sequences = tokenizer.texts_to_sequences(sentences)\n",
    "padded = pad_sequences(sequences,maxlen = 5)\n",
    "print(sequences)\n",
    "print(padded)"
   ]
  },
  {
   "cell_type": "code",
   "execution_count": 4,
   "id": "a5590ab9",
   "metadata": {},
   "outputs": [
    {
     "name": "stdout",
     "output_type": "stream",
     "text": [
      "\n",
      "Test Sequence =  [[3, 1, 2, 4], [2, 4, 2]]\n",
      "\n",
      "Padded Test Sequence: \n",
      "[[0 0 0 0 0 0 3 1 2 4]\n",
      " [0 0 0 0 0 0 0 2 4 2]]\n"
     ]
    }
   ],
   "source": [
    "test_data = [\n",
    "    'i really love my dog',\n",
    "    'my dog loves my manatee'\n",
    "]\n",
    "\n",
    "test_seq = tokenizer.texts_to_sequences(test_data)\n",
    "print(\"\\nTest Sequence = \", test_seq)\n",
    "\n",
    "padded = pad_sequences(test_seq, maxlen=10)\n",
    "print(\"\\nPadded Test Sequence: \")\n",
    "print(padded)"
   ]
  },
  {
   "cell_type": "markdown",
   "id": "05297f5c",
   "metadata": {},
   "source": [
    "## Sarcasm Detection"
   ]
  },
  {
   "cell_type": "code",
   "execution_count": 5,
   "id": "50663717",
   "metadata": {},
   "outputs": [],
   "source": [
    "import json\n",
    "import tensorflow as tf\n",
    "\n",
    "from tensorflow.keras.preprocessing.text import Tokenizer\n",
    "from tensorflow.keras.preprocessing.sequence import pad_sequences"
   ]
  },
  {
   "cell_type": "code",
   "execution_count": 6,
   "id": "b8a3704d",
   "metadata": {},
   "outputs": [],
   "source": [
    "vocab_size = 10000\n",
    "embedding_dim = 16\n",
    "max_length = 100\n",
    "trunc_type='post'\n",
    "padding_type='post'\n",
    "oov_tok = \"<OOV>\"\n",
    "training_size = 20000"
   ]
  },
  {
   "cell_type": "code",
   "execution_count": 8,
   "id": "1e0f71b9",
   "metadata": {},
   "outputs": [],
   "source": [
    "with open(\"sarcasm.json\", 'r') as f:\n",
    "    datastore = json.load(f)\n",
    "\n",
    "sentences = []\n",
    "labels = []\n",
    "\n",
    "for item in datastore:\n",
    "    sentences.append(item['headline'])\n",
    "    labels.append(item['is_sarcastic'])"
   ]
  },
  {
   "cell_type": "code",
   "execution_count": 9,
   "id": "1f3dc0c6",
   "metadata": {},
   "outputs": [],
   "source": [
    "training_sentences = sentences[0:training_size]\n",
    "testing_sentences = sentences[training_size:]\n",
    "training_labels = labels[0:training_size]\n",
    "testing_labels = labels[training_size:]"
   ]
  },
  {
   "cell_type": "code",
   "execution_count": 10,
   "id": "20c21dfa",
   "metadata": {},
   "outputs": [],
   "source": [
    "tokenizer = Tokenizer(num_words=vocab_size, oov_token=oov_tok)\n",
    "tokenizer.fit_on_texts(training_sentences)\n",
    "\n",
    "word_index = tokenizer.word_index\n",
    "\n",
    "training_sequences = tokenizer.texts_to_sequences(training_sentences)\n",
    "training_padded = pad_sequences(training_sequences, maxlen=max_length, padding=padding_type, truncating=trunc_type)\n",
    "\n",
    "testing_sequences = tokenizer.texts_to_sequences(testing_sentences)\n",
    "testing_padded = pad_sequences(testing_sequences, maxlen=max_length, padding=padding_type, truncating=trunc_type)"
   ]
  },
  {
   "cell_type": "code",
   "execution_count": 11,
   "id": "d69b814d",
   "metadata": {},
   "outputs": [],
   "source": [
    "import numpy as np\n",
    "training_padded = np.array(training_padded)\n",
    "training_labels = np.array(training_labels)\n",
    "testing_padded = np.array(testing_padded)\n",
    "testing_labels = np.array(testing_labels)"
   ]
  },
  {
   "cell_type": "code",
   "execution_count": 12,
   "id": "eee07a9b",
   "metadata": {},
   "outputs": [],
   "source": [
    "model = tf.keras.Sequential([\n",
    "    tf.keras.layers.Embedding(vocab_size, embedding_dim, input_length=max_length),\n",
    "    tf.keras.layers.GlobalAveragePooling1D(),\n",
    "    tf.keras.layers.Dense(24, activation='relu'),\n",
    "    tf.keras.layers.Dense(1, activation='sigmoid')\n",
    "])\n",
    "model.compile(loss='binary_crossentropy',optimizer='adam',metrics=['accuracy'])"
   ]
  },
  {
   "cell_type": "code",
   "execution_count": 13,
   "id": "9b44a23f",
   "metadata": {},
   "outputs": [
    {
     "name": "stdout",
     "output_type": "stream",
     "text": [
      "Model: \"sequential\"\n",
      "_________________________________________________________________\n",
      " Layer (type)                Output Shape              Param #   \n",
      "=================================================================\n",
      " embedding (Embedding)       (None, 100, 16)           160000    \n",
      "                                                                 \n",
      " global_average_pooling1d (G  (None, 16)               0         \n",
      " lobalAveragePooling1D)                                          \n",
      "                                                                 \n",
      " dense (Dense)               (None, 24)                408       \n",
      "                                                                 \n",
      " dense_1 (Dense)             (None, 1)                 25        \n",
      "                                                                 \n",
      "=================================================================\n",
      "Total params: 160,433\n",
      "Trainable params: 160,433\n",
      "Non-trainable params: 0\n",
      "_________________________________________________________________\n"
     ]
    }
   ],
   "source": [
    "model.summary()\n"
   ]
  },
  {
   "cell_type": "code",
   "execution_count": 14,
   "id": "5c9b3921",
   "metadata": {},
   "outputs": [
    {
     "name": "stdout",
     "output_type": "stream",
     "text": [
      "Epoch 1/30\n",
      "625/625 - 7s - loss: 0.6648 - accuracy: 0.5841 - val_loss: 0.5796 - val_accuracy: 0.7873 - 7s/epoch - 11ms/step\n",
      "Epoch 2/30\n",
      "625/625 - 4s - loss: 0.4285 - accuracy: 0.8314 - val_loss: 0.3838 - val_accuracy: 0.8381 - 4s/epoch - 7ms/step\n",
      "Epoch 3/30\n",
      "625/625 - 4s - loss: 0.3067 - accuracy: 0.8787 - val_loss: 0.3609 - val_accuracy: 0.8413 - 4s/epoch - 7ms/step\n",
      "Epoch 4/30\n",
      "625/625 - 5s - loss: 0.2555 - accuracy: 0.8994 - val_loss: 0.3436 - val_accuracy: 0.8538 - 5s/epoch - 7ms/step\n",
      "Epoch 5/30\n",
      "625/625 - 4s - loss: 0.2180 - accuracy: 0.9159 - val_loss: 0.3448 - val_accuracy: 0.8563 - 4s/epoch - 7ms/step\n",
      "Epoch 6/30\n",
      "625/625 - 4s - loss: 0.1907 - accuracy: 0.9282 - val_loss: 0.3551 - val_accuracy: 0.8554 - 4s/epoch - 6ms/step\n",
      "Epoch 7/30\n",
      "625/625 - 4s - loss: 0.1701 - accuracy: 0.9344 - val_loss: 0.3674 - val_accuracy: 0.8556 - 4s/epoch - 7ms/step\n",
      "Epoch 8/30\n",
      "625/625 - 4s - loss: 0.1515 - accuracy: 0.9433 - val_loss: 0.3915 - val_accuracy: 0.8498 - 4s/epoch - 7ms/step\n",
      "Epoch 9/30\n",
      "625/625 - 4s - loss: 0.1343 - accuracy: 0.9526 - val_loss: 0.4017 - val_accuracy: 0.8520 - 4s/epoch - 7ms/step\n",
      "Epoch 10/30\n",
      "625/625 - 4s - loss: 0.1223 - accuracy: 0.9572 - val_loss: 0.4297 - val_accuracy: 0.8463 - 4s/epoch - 7ms/step\n",
      "Epoch 11/30\n",
      "625/625 - 4s - loss: 0.1121 - accuracy: 0.9606 - val_loss: 0.4468 - val_accuracy: 0.8465 - 4s/epoch - 7ms/step\n",
      "Epoch 12/30\n",
      "625/625 - 5s - loss: 0.0998 - accuracy: 0.9671 - val_loss: 0.4894 - val_accuracy: 0.8377 - 5s/epoch - 8ms/step\n",
      "Epoch 13/30\n",
      "625/625 - 5s - loss: 0.0916 - accuracy: 0.9689 - val_loss: 0.5016 - val_accuracy: 0.8417 - 5s/epoch - 7ms/step\n",
      "Epoch 14/30\n",
      "625/625 - 5s - loss: 0.0840 - accuracy: 0.9712 - val_loss: 0.5739 - val_accuracy: 0.8302 - 5s/epoch - 7ms/step\n",
      "Epoch 15/30\n",
      "625/625 - 4s - loss: 0.0772 - accuracy: 0.9750 - val_loss: 0.5731 - val_accuracy: 0.8328 - 4s/epoch - 7ms/step\n",
      "Epoch 16/30\n",
      "625/625 - 5s - loss: 0.0714 - accuracy: 0.9771 - val_loss: 0.5962 - val_accuracy: 0.8323 - 5s/epoch - 7ms/step\n",
      "Epoch 17/30\n",
      "625/625 - 4s - loss: 0.0637 - accuracy: 0.9797 - val_loss: 0.6730 - val_accuracy: 0.8231 - 4s/epoch - 7ms/step\n",
      "Epoch 18/30\n",
      "625/625 - 4s - loss: 0.0594 - accuracy: 0.9814 - val_loss: 0.6548 - val_accuracy: 0.8308 - 4s/epoch - 7ms/step\n",
      "Epoch 19/30\n",
      "625/625 - 4s - loss: 0.0546 - accuracy: 0.9829 - val_loss: 0.6875 - val_accuracy: 0.8277 - 4s/epoch - 7ms/step\n",
      "Epoch 20/30\n",
      "625/625 - 4s - loss: 0.0504 - accuracy: 0.9840 - val_loss: 0.7333 - val_accuracy: 0.8249 - 4s/epoch - 7ms/step\n",
      "Epoch 21/30\n",
      "625/625 - 4s - loss: 0.0453 - accuracy: 0.9868 - val_loss: 0.7581 - val_accuracy: 0.8243 - 4s/epoch - 7ms/step\n",
      "Epoch 22/30\n",
      "625/625 - 4s - loss: 0.0421 - accuracy: 0.9870 - val_loss: 0.7954 - val_accuracy: 0.8219 - 4s/epoch - 7ms/step\n",
      "Epoch 23/30\n",
      "625/625 - 4s - loss: 0.0385 - accuracy: 0.9886 - val_loss: 0.8353 - val_accuracy: 0.8219 - 4s/epoch - 7ms/step\n",
      "Epoch 24/30\n",
      "625/625 - 4s - loss: 0.0349 - accuracy: 0.9900 - val_loss: 0.8693 - val_accuracy: 0.8196 - 4s/epoch - 7ms/step\n",
      "Epoch 25/30\n",
      "625/625 - 4s - loss: 0.0334 - accuracy: 0.9908 - val_loss: 0.9175 - val_accuracy: 0.8179 - 4s/epoch - 7ms/step\n",
      "Epoch 26/30\n",
      "625/625 - 4s - loss: 0.0296 - accuracy: 0.9912 - val_loss: 0.9481 - val_accuracy: 0.8176 - 4s/epoch - 7ms/step\n",
      "Epoch 27/30\n",
      "625/625 - 4s - loss: 0.0285 - accuracy: 0.9912 - val_loss: 0.9899 - val_accuracy: 0.8171 - 4s/epoch - 7ms/step\n",
      "Epoch 28/30\n",
      "625/625 - 4s - loss: 0.0266 - accuracy: 0.9920 - val_loss: 1.0263 - val_accuracy: 0.8170 - 4s/epoch - 7ms/step\n",
      "Epoch 29/30\n",
      "625/625 - 4s - loss: 0.0228 - accuracy: 0.9941 - val_loss: 1.0686 - val_accuracy: 0.8138 - 4s/epoch - 7ms/step\n",
      "Epoch 30/30\n",
      "625/625 - 4s - loss: 0.0205 - accuracy: 0.9945 - val_loss: 1.1085 - val_accuracy: 0.8138 - 4s/epoch - 6ms/step\n"
     ]
    }
   ],
   "source": [
    "num_epochs = 30\n",
    "history = model.fit(training_padded, training_labels, epochs=num_epochs, validation_data=(testing_padded, testing_labels), verbose=2)"
   ]
  },
  {
   "cell_type": "code",
   "execution_count": 15,
   "id": "1bc52817",
   "metadata": {},
   "outputs": [
    {
     "data": {
      "image/png": "[encoded data removed]",
      "text/plain": [
       "<Figure size 432x288 with 1 Axes>"
      ]
     },
     "metadata": {
      "needs_background": "light"
     },
     "output_type": "display_data"
    },
    {
     "data": {
      "image/png": "[encoded data removed]",
      "text/plain": [
       "<Figure size 432x288 with 1 Axes>"
      ]
     },
     "metadata": {
      "needs_background": "light"
     },
     "output_type": "display_data"
    }
   ],
   "source": [
    "import matplotlib.pyplot as plt\n",
    "\n",
    "\n",
    "def plot_graphs(history, string):\n",
    "  plt.plot(history.history[string])\n",
    "  plt.plot(history.history['val_'+string])\n",
    "  plt.xlabel(\"Epochs\")\n",
    "  plt.ylabel(string)\n",
    "  plt.legend([string, 'val_'+string])\n",
    "  plt.show()\n",
    "  \n",
    "plot_graphs(history, \"accuracy\")\n",
    "plot_graphs(history, \"loss\")"
   ]
  },
  {
   "cell_type": "code",
   "execution_count": 19,
   "id": "be7fcce8",
   "metadata": {},
   "outputs": [
    {
     "name": "stdout",
     "output_type": "stream",
     "text": [
      "[[9.409936e-01]\n",
      " [3.173160e-05]]\n"
     ]
    }
   ],
   "source": [
    "sentence = [\"granny starting to fear spiders in the garden might be real\", \"game of thrones season finale showing this sunday night\"]\n",
    "sequences = tokenizer.texts_to_sequences(sentence)\n",
    "padded = pad_sequences(sequences, maxlen=max_length, padding=padding_type, truncating=trunc_type)\n",
    "print(model.predict(padded))"
   ]
  },
  {
   "cell_type": "code",
   "execution_count": 2,
   "id": "3d2c9d5f",
   "metadata": {},
   "outputs": [
    {
     "name": "stdout",
     "output_type": "stream",
     "text": [
      "Default GPU Device:/device:GPU:0\n"
     ]
    }
   ],
   "source": [
    "import tensorflow as tf \n",
    "\n",
    "if tf.test.gpu_device_name(): \n",
    "\n",
    "    print('Default GPU Device:{}'.format(tf.test.gpu_device_name()))\n",
    "\n",
    "else:\n",
    "\n",
    "   print(\"Please install GPU version of TF\")"
   ]
  },
  {
   "cell_type": "code",
   "execution_count": 3,
   "id": "3a6caf31",
   "metadata": {},
   "outputs": [
    {
     "name": "stdout",
     "output_type": "stream",
     "text": [
      "Executing op _EagerConst in device /job:localhost/replica:0/task:0/device:GPU:0\n",
      "Executing op _EagerConst in device /job:localhost/replica:0/task:0/device:GPU:0\n",
      "Executing op MatMul in device /job:localhost/replica:0/task:0/device:GPU:0\n",
      "tf.Tensor(\n",
      "[[22. 28.]\n",
      " [49. 64.]], shape=(2, 2), dtype=float32)\n"
     ]
    }
   ],
   "source": [
    "\n",
    "# Create some tensors\n",
    "a = tf.constant([[1.0, 2.0, 3.0], [4.0, 5.0, 6.0]])\n",
    "b = tf.constant([[1.0, 2.0], [3.0, 4.0], [5.0, 6.0]])\n",
    "c = tf.matmul(a, b)\n",
    "\n",
    "print(c)\n"
   ]
  },
  {
   "cell_type": "code",
   "execution_count": null,
   "id": "cfb85b4e",
   "metadata": {},
   "outputs": [],
   "source": []
  }
 ],
 "metadata": {
  "kernelspec": {
   "display_name": "Python 3 (ipykernel)",
   "language": "python",
   "name": "python3"
  },
  "language_info": {
   "codemirror_mode": {
    "name": "ipython",
    "version": 3
   },
   "file_extension": ".py",
   "mimetype": "text/x-python",
   "name": "python",
   "nbconvert_exporter": "python",
   "pygments_lexer": "ipython3",
   "version": "3.8.3"
  }
 },
 "nbformat": 4,
 "nbformat_minor": 5
}
